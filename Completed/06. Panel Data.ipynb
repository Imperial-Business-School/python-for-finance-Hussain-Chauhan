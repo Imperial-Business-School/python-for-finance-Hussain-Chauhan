{
 "cells": [
  {
   "attachments": {},
   "cell_type": "markdown",
   "metadata": {},
   "source": [
    "# Panel Data\n",
    "\n",
    "Sometimes, data comes in such a way that many observations share certain common features. For example, several measurements can be made in the same location, under the same condition, or for the same subject. To understand the data and extract meaningful insights, we often need to aggregate these observations. This is where the groupby() function comes into play."
   ]
  },
  {
   "attachments": {},
   "cell_type": "markdown",
   "metadata": {},
   "source": [
    "## Loading\n",
    "\n",
    "As always, let's start by importing pandas and loading and cleaning our dataset."
   ]
  },
  {
   "cell_type": "code",
   "execution_count": 2,
   "metadata": {},
   "outputs": [
    {
     "name": "stdout",
     "output_type": "stream",
     "text": [
      "Look at our dates:\n",
      " 0    2025-01-02\n",
      "1    2025-01-03\n",
      "2    2025-01-06\n",
      "3    2025-01-07\n",
      "4    2025-01-08\n",
      "Name: DlyCalDt, dtype: object\n"
     ]
    },
    {
     "data": {
      "application/vnd.microsoft.datawrangler.viewer.v0+json": {
       "columns": [
        {
         "name": "index",
         "rawType": "int64",
         "type": "integer"
        },
        {
         "name": "DlyCalDt",
         "rawType": "datetime64[ns]",
         "type": "datetime"
        },
        {
         "name": "Ticker",
         "rawType": "object",
         "type": "string"
        },
        {
         "name": "SecurityNm",
         "rawType": "object",
         "type": "string"
        },
        {
         "name": "DlyOpen",
         "rawType": "float64",
         "type": "float"
        },
        {
         "name": "DlyHigh",
         "rawType": "float64",
         "type": "float"
        },
        {
         "name": "DlyLow",
         "rawType": "float64",
         "type": "float"
        },
        {
         "name": "DlyClose",
         "rawType": "float64",
         "type": "float"
        },
        {
         "name": "DlyVol",
         "rawType": "int64",
         "type": "integer"
        },
        {
         "name": "SICCD",
         "rawType": "int64",
         "type": "integer"
        },
        {
         "name": "PrimaryExch",
         "rawType": "object",
         "type": "string"
        },
        {
         "name": "PERMNO",
         "rawType": "int64",
         "type": "integer"
        },
        {
         "name": "PERMCO",
         "rawType": "int64",
         "type": "integer"
        }
       ],
       "ref": "7710a2f4-d86c-4617-878a-6b346d0785b7",
       "rows": [
        [
         "0",
         "2025-01-02 00:00:00",
         "A",
         "AGILENT TECHNOLOGIES INC; COM NONE; CONS",
         "135.21",
         "135.73",
         "132.87",
         "133.43",
         "953587",
         "3826",
         "N",
         "87432",
         "36364"
        ],
        [
         "1",
         "2025-01-03 00:00:00",
         "A",
         "AGILENT TECHNOLOGIES INC; COM NONE; CONS",
         "133.45",
         "136.05",
         "132.755",
         "135.69",
         "1246919",
         "3826",
         "N",
         "87432",
         "36364"
        ],
        [
         "2",
         "2025-01-06 00:00:00",
         "A",
         "AGILENT TECHNOLOGIES INC; COM NONE; CONS",
         "135.6",
         "138.34",
         "135.34",
         "136.43",
         "1047034",
         "3826",
         "N",
         "87432",
         "36364"
        ],
        [
         "3",
         "2025-01-07 00:00:00",
         "A",
         "AGILENT TECHNOLOGIES INC; COM NONE; CONS",
         "136.83",
         "140.28",
         "135.98",
         "137.41",
         "1056693",
         "3826",
         "N",
         "87432",
         "36364"
        ],
        [
         "4",
         "2025-01-08 00:00:00",
         "A",
         "AGILENT TECHNOLOGIES INC; COM NONE; CONS",
         "137.68",
         "137.68",
         "135.63",
         "137.0",
         "1684573",
         "3826",
         "N",
         "87432",
         "36364"
        ],
        [
         "5",
         "2025-01-10 00:00:00",
         "A",
         "AGILENT TECHNOLOGIES INC; COM NONE; CONS",
         "134.75",
         "140.14",
         "134.709",
         "137.47",
         "1369875",
         "3826",
         "N",
         "87432",
         "36364"
        ],
        [
         "6",
         "2025-01-13 00:00:00",
         "A",
         "AGILENT TECHNOLOGIES INC; COM NONE; CONS",
         "137.22",
         "142.82",
         "137.0",
         "141.95",
         "1561959",
         "3826",
         "N",
         "87432",
         "36364"
        ],
        [
         "7",
         "2025-01-14 00:00:00",
         "A",
         "AGILENT TECHNOLOGIES INC; COM NONE; CONS",
         "142.0",
         "145.38",
         "140.15",
         "143.43",
         "2445434",
         "3826",
         "N",
         "87432",
         "36364"
        ],
        [
         "8",
         "2025-01-15 00:00:00",
         "A",
         "AGILENT TECHNOLOGIES INC; COM NONE; CONS",
         "144.14",
         "146.5",
         "138.68",
         "142.23",
         "2328643",
         "3826",
         "N",
         "87432",
         "36364"
        ],
        [
         "9",
         "2025-01-16 00:00:00",
         "A",
         "AGILENT TECHNOLOGIES INC; COM NONE; CONS",
         "142.78",
         "145.11",
         "140.43",
         "144.72",
         "1661474",
         "3826",
         "N",
         "87432",
         "36364"
        ],
        [
         "10",
         "2025-01-17 00:00:00",
         "A",
         "AGILENT TECHNOLOGIES INC; COM NONE; CONS",
         "145.88",
         "148.46",
         "145.195",
         "147.36",
         "3210310",
         "3826",
         "N",
         "87432",
         "36364"
        ],
        [
         "11",
         "2025-01-21 00:00:00",
         "A",
         "AGILENT TECHNOLOGIES INC; COM NONE; CONS",
         "148.67",
         "153.18",
         "148.01",
         "152.57",
         "2759636",
         "3826",
         "N",
         "87432",
         "36364"
        ],
        [
         "12",
         "2025-01-22 00:00:00",
         "A",
         "AGILENT TECHNOLOGIES INC; COM NONE; CONS",
         "152.83",
         "153.76",
         "151.72",
         "152.6",
         "1730996",
         "3826",
         "N",
         "87432",
         "36364"
        ],
        [
         "13",
         "2025-01-23 00:00:00",
         "A",
         "AGILENT TECHNOLOGIES INC; COM NONE; CONS",
         "152.83",
         "152.955",
         "148.18",
         "152.45",
         "1332235",
         "3826",
         "N",
         "87432",
         "36364"
        ],
        [
         "14",
         "2025-01-24 00:00:00",
         "A",
         "AGILENT TECHNOLOGIES INC; COM NONE; CONS",
         "152.1",
         "152.77",
         "150.78",
         "151.44",
         "1844887",
         "3826",
         "N",
         "87432",
         "36364"
        ],
        [
         "15",
         "2025-01-27 00:00:00",
         "A",
         "AGILENT TECHNOLOGIES INC; COM NONE; CONS",
         "151.56",
         "152.22",
         "148.7301",
         "150.96",
         "2229590",
         "3826",
         "N",
         "87432",
         "36364"
        ],
        [
         "16",
         "2025-01-28 00:00:00",
         "A",
         "AGILENT TECHNOLOGIES INC; COM NONE; CONS",
         "152.61",
         "153.24",
         "150.21",
         "150.34",
         "1791623",
         "3826",
         "N",
         "87432",
         "36364"
        ],
        [
         "17",
         "2025-01-29 00:00:00",
         "A",
         "AGILENT TECHNOLOGIES INC; COM NONE; CONS",
         "148.99",
         "149.9",
         "146.55",
         "147.09",
         "1583243",
         "3826",
         "N",
         "87432",
         "36364"
        ],
        [
         "18",
         "2025-01-30 00:00:00",
         "A",
         "AGILENT TECHNOLOGIES INC; COM NONE; CONS",
         "148.95",
         "152.48",
         "147.65",
         "151.38",
         "1496057",
         "3826",
         "N",
         "87432",
         "36364"
        ],
        [
         "19",
         "2025-01-31 00:00:00",
         "A",
         "AGILENT TECHNOLOGIES INC; COM NONE; CONS",
         "150.96",
         "153.84",
         "150.5",
         "151.52",
         "1886605",
         "3826",
         "N",
         "87432",
         "36364"
        ],
        [
         "20",
         "2025-02-03 00:00:00",
         "A",
         "AGILENT TECHNOLOGIES INC; COM NONE; CONS",
         "149.76",
         "150.315",
         "147.88",
         "148.63",
         "1637928",
         "3826",
         "N",
         "87432",
         "36364"
        ],
        [
         "21",
         "2025-02-04 00:00:00",
         "A",
         "AGILENT TECHNOLOGIES INC; COM NONE; CONS",
         "148.02",
         "148.65",
         "146.27",
         "147.04",
         "1290985",
         "3826",
         "N",
         "87432",
         "36364"
        ],
        [
         "22",
         "2025-02-05 00:00:00",
         "A",
         "AGILENT TECHNOLOGIES INC; COM NONE; CONS",
         "147.89",
         "148.71",
         "146.31",
         "147.99",
         "1348074",
         "3826",
         "N",
         "87432",
         "36364"
        ],
        [
         "23",
         "2025-02-06 00:00:00",
         "A",
         "AGILENT TECHNOLOGIES INC; COM NONE; CONS",
         "147.02",
         "148.61",
         "146.2",
         "147.64",
         "1142978",
         "3826",
         "N",
         "87432",
         "36364"
        ],
        [
         "24",
         "2025-02-07 00:00:00",
         "A",
         "AGILENT TECHNOLOGIES INC; COM NONE; CONS",
         "148.21",
         "149.3875",
         "144.41",
         "145.21",
         "1557768",
         "3826",
         "N",
         "87432",
         "36364"
        ],
        [
         "25",
         "2025-02-10 00:00:00",
         "A",
         "AGILENT TECHNOLOGIES INC; COM NONE; CONS",
         "145.58",
         "145.8538",
         "141.83",
         "143.69",
         "1764731",
         "3826",
         "N",
         "87432",
         "36364"
        ],
        [
         "26",
         "2025-02-11 00:00:00",
         "A",
         "AGILENT TECHNOLOGIES INC; COM NONE; CONS",
         "142.23",
         "144.2",
         "141.3175",
         "141.75",
         "1134256",
         "3826",
         "N",
         "87432",
         "36364"
        ],
        [
         "27",
         "2025-02-12 00:00:00",
         "A",
         "AGILENT TECHNOLOGIES INC; COM NONE; CONS",
         "138.78",
         "139.8",
         "136.4",
         "138.08",
         "2103555",
         "3826",
         "N",
         "87432",
         "36364"
        ],
        [
         "28",
         "2025-02-13 00:00:00",
         "A",
         "AGILENT TECHNOLOGIES INC; COM NONE; CONS",
         "138.27",
         "138.3454",
         "136.06",
         "136.45",
         "1395435",
         "3826",
         "N",
         "87432",
         "36364"
        ],
        [
         "29",
         "2025-02-14 00:00:00",
         "A",
         "AGILENT TECHNOLOGIES INC; COM NONE; CONS",
         "136.99",
         "137.16",
         "134.31",
         "134.67",
         "1358730",
         "3826",
         "N",
         "87432",
         "36364"
        ],
        [
         "30",
         "2025-02-18 00:00:00",
         "A",
         "AGILENT TECHNOLOGIES INC; COM NONE; CONS",
         "134.51",
         "136.185",
         "133.94",
         "135.2",
         "2121049",
         "3826",
         "N",
         "87432",
         "36364"
        ],
        [
         "31",
         "2025-02-19 00:00:00",
         "A",
         "AGILENT TECHNOLOGIES INC; COM NONE; CONS",
         "134.59",
         "137.49",
         "134.05",
         "137.15",
         "1738150",
         "3826",
         "N",
         "87432",
         "36364"
        ],
        [
         "32",
         "2025-02-20 00:00:00",
         "A",
         "AGILENT TECHNOLOGIES INC; COM NONE; CONS",
         "137.66",
         "138.58",
         "136.1",
         "136.79",
         "872747",
         "3826",
         "N",
         "87432",
         "36364"
        ],
        [
         "33",
         "2025-02-21 00:00:00",
         "A",
         "AGILENT TECHNOLOGIES INC; COM NONE; CONS",
         "136.86",
         "137.525",
         "135.15",
         "135.37",
         "1112247",
         "3826",
         "N",
         "87432",
         "36364"
        ],
        [
         "34",
         "2025-02-24 00:00:00",
         "A",
         "AGILENT TECHNOLOGIES INC; COM NONE; CONS",
         "135.5",
         "136.94",
         "134.77",
         "135.28",
         "2037577",
         "3826",
         "N",
         "87432",
         "36364"
        ],
        [
         "35",
         "2025-02-25 00:00:00",
         "A",
         "AGILENT TECHNOLOGIES INC; COM NONE; CONS",
         "135.15",
         "136.28",
         "133.2",
         "134.18",
         "2606955",
         "3826",
         "N",
         "87432",
         "36364"
        ],
        [
         "36",
         "2025-02-26 00:00:00",
         "A",
         "AGILENT TECHNOLOGIES INC; COM NONE; CONS",
         "135.0",
         "136.47",
         "133.65",
         "134.47",
         "1539877",
         "3826",
         "N",
         "87432",
         "36364"
        ],
        [
         "37",
         "2025-02-27 00:00:00",
         "A",
         "AGILENT TECHNOLOGIES INC; COM NONE; CONS",
         "128.78",
         "131.32",
         "125.81",
         "127.08",
         "3469145",
         "3826",
         "N",
         "87432",
         "36364"
        ],
        [
         "38",
         "2025-02-28 00:00:00",
         "A",
         "AGILENT TECHNOLOGIES INC; COM NONE; CONS",
         "128.2",
         "129.51",
         "125.955",
         "127.92",
         "2852776",
         "3826",
         "N",
         "87432",
         "36364"
        ],
        [
         "39",
         "2025-03-03 00:00:00",
         "A",
         "AGILENT TECHNOLOGIES INC; COM NONE; CONS",
         "129.0",
         "129.0",
         "125.64",
         "126.33",
         "2184538",
         "3826",
         "N",
         "87432",
         "36364"
        ],
        [
         "40",
         "2025-03-04 00:00:00",
         "A",
         "AGILENT TECHNOLOGIES INC; COM NONE; CONS",
         "125.0",
         "125.75",
         "121.45",
         "123.06",
         "2524159",
         "3826",
         "N",
         "87432",
         "36364"
        ],
        [
         "41",
         "2025-03-05 00:00:00",
         "A",
         "AGILENT TECHNOLOGIES INC; COM NONE; CONS",
         "122.48",
         "127.3",
         "122.29",
         "126.51",
         "2047254",
         "3826",
         "N",
         "87432",
         "36364"
        ],
        [
         "42",
         "2025-03-06 00:00:00",
         "A",
         "AGILENT TECHNOLOGIES INC; COM NONE; CONS",
         "126.0",
         "129.5",
         "125.765",
         "126.55",
         "2299955",
         "3826",
         "N",
         "87432",
         "36364"
        ],
        [
         "43",
         "2025-03-07 00:00:00",
         "A",
         "AGILENT TECHNOLOGIES INC; COM NONE; CONS",
         "125.95",
         "128.1",
         "124.4",
         "126.7",
         "2056080",
         "3826",
         "N",
         "87432",
         "36364"
        ],
        [
         "44",
         "2025-03-10 00:00:00",
         "A",
         "AGILENT TECHNOLOGIES INC; COM NONE; CONS",
         "125.21",
         "126.654",
         "121.62",
         "121.9",
         "3412347",
         "3826",
         "N",
         "87432",
         "36364"
        ],
        [
         "45",
         "2025-03-11 00:00:00",
         "A",
         "AGILENT TECHNOLOGIES INC; COM NONE; CONS",
         "122.59",
         "123.28",
         "119.301",
         "121.03",
         "2106624",
         "3826",
         "N",
         "87432",
         "36364"
        ],
        [
         "46",
         "2025-03-12 00:00:00",
         "A",
         "AGILENT TECHNOLOGIES INC; COM NONE; CONS",
         "122.1",
         "123.7",
         "119.08",
         "119.85",
         "1807094",
         "3826",
         "N",
         "87432",
         "36364"
        ],
        [
         "47",
         "2025-03-13 00:00:00",
         "A",
         "AGILENT TECHNOLOGIES INC; COM NONE; CONS",
         "119.0",
         "120.08",
         "117.17",
         "117.33",
         "1984761",
         "3826",
         "N",
         "87432",
         "36364"
        ],
        [
         "48",
         "2025-03-14 00:00:00",
         "A",
         "AGILENT TECHNOLOGIES INC; COM NONE; CONS",
         "118.81",
         "122.05",
         "117.5",
         "121.18",
         "2978763",
         "3826",
         "N",
         "87432",
         "36364"
        ],
        [
         "49",
         "2025-03-17 00:00:00",
         "A",
         "AGILENT TECHNOLOGIES INC; COM NONE; CONS",
         "121.1",
         "123.5",
         "120.78",
         "122.49",
         "2015386",
         "3826",
         "N",
         "87432",
         "36364"
        ]
       ],
       "shape": {
        "columns": 12,
        "rows": 29882
       }
      },
      "text/html": [
       "<div>\n",
       "<style scoped>\n",
       "    .dataframe tbody tr th:only-of-type {\n",
       "        vertical-align: middle;\n",
       "    }\n",
       "\n",
       "    .dataframe tbody tr th {\n",
       "        vertical-align: top;\n",
       "    }\n",
       "\n",
       "    .dataframe thead th {\n",
       "        text-align: right;\n",
       "    }\n",
       "</style>\n",
       "<table border=\"1\" class=\"dataframe\">\n",
       "  <thead>\n",
       "    <tr style=\"text-align: right;\">\n",
       "      <th></th>\n",
       "      <th>DlyCalDt</th>\n",
       "      <th>Ticker</th>\n",
       "      <th>SecurityNm</th>\n",
       "      <th>DlyOpen</th>\n",
       "      <th>DlyHigh</th>\n",
       "      <th>DlyLow</th>\n",
       "      <th>DlyClose</th>\n",
       "      <th>DlyVol</th>\n",
       "      <th>SICCD</th>\n",
       "      <th>PrimaryExch</th>\n",
       "      <th>PERMNO</th>\n",
       "      <th>PERMCO</th>\n",
       "    </tr>\n",
       "  </thead>\n",
       "  <tbody>\n",
       "    <tr>\n",
       "      <th>0</th>\n",
       "      <td>2025-01-02</td>\n",
       "      <td>A</td>\n",
       "      <td>AGILENT TECHNOLOGIES INC; COM NONE; CONS</td>\n",
       "      <td>135.21</td>\n",
       "      <td>135.7300</td>\n",
       "      <td>132.870</td>\n",
       "      <td>133.43</td>\n",
       "      <td>953587</td>\n",
       "      <td>3826</td>\n",
       "      <td>N</td>\n",
       "      <td>87432</td>\n",
       "      <td>36364</td>\n",
       "    </tr>\n",
       "    <tr>\n",
       "      <th>1</th>\n",
       "      <td>2025-01-03</td>\n",
       "      <td>A</td>\n",
       "      <td>AGILENT TECHNOLOGIES INC; COM NONE; CONS</td>\n",
       "      <td>133.45</td>\n",
       "      <td>136.0500</td>\n",
       "      <td>132.755</td>\n",
       "      <td>135.69</td>\n",
       "      <td>1246919</td>\n",
       "      <td>3826</td>\n",
       "      <td>N</td>\n",
       "      <td>87432</td>\n",
       "      <td>36364</td>\n",
       "    </tr>\n",
       "    <tr>\n",
       "      <th>2</th>\n",
       "      <td>2025-01-06</td>\n",
       "      <td>A</td>\n",
       "      <td>AGILENT TECHNOLOGIES INC; COM NONE; CONS</td>\n",
       "      <td>135.60</td>\n",
       "      <td>138.3400</td>\n",
       "      <td>135.340</td>\n",
       "      <td>136.43</td>\n",
       "      <td>1047034</td>\n",
       "      <td>3826</td>\n",
       "      <td>N</td>\n",
       "      <td>87432</td>\n",
       "      <td>36364</td>\n",
       "    </tr>\n",
       "    <tr>\n",
       "      <th>3</th>\n",
       "      <td>2025-01-07</td>\n",
       "      <td>A</td>\n",
       "      <td>AGILENT TECHNOLOGIES INC; COM NONE; CONS</td>\n",
       "      <td>136.83</td>\n",
       "      <td>140.2800</td>\n",
       "      <td>135.980</td>\n",
       "      <td>137.41</td>\n",
       "      <td>1056693</td>\n",
       "      <td>3826</td>\n",
       "      <td>N</td>\n",
       "      <td>87432</td>\n",
       "      <td>36364</td>\n",
       "    </tr>\n",
       "    <tr>\n",
       "      <th>4</th>\n",
       "      <td>2025-01-08</td>\n",
       "      <td>A</td>\n",
       "      <td>AGILENT TECHNOLOGIES INC; COM NONE; CONS</td>\n",
       "      <td>137.68</td>\n",
       "      <td>137.6800</td>\n",
       "      <td>135.630</td>\n",
       "      <td>137.00</td>\n",
       "      <td>1684573</td>\n",
       "      <td>3826</td>\n",
       "      <td>N</td>\n",
       "      <td>87432</td>\n",
       "      <td>36364</td>\n",
       "    </tr>\n",
       "    <tr>\n",
       "      <th>...</th>\n",
       "      <td>...</td>\n",
       "      <td>...</td>\n",
       "      <td>...</td>\n",
       "      <td>...</td>\n",
       "      <td>...</td>\n",
       "      <td>...</td>\n",
       "      <td>...</td>\n",
       "      <td>...</td>\n",
       "      <td>...</td>\n",
       "      <td>...</td>\n",
       "      <td>...</td>\n",
       "      <td>...</td>\n",
       "    </tr>\n",
       "    <tr>\n",
       "      <th>29877</th>\n",
       "      <td>2025-03-25</td>\n",
       "      <td>ZTS</td>\n",
       "      <td>ZOETIS INC; COM A; CONS</td>\n",
       "      <td>163.31</td>\n",
       "      <td>164.3499</td>\n",
       "      <td>160.251</td>\n",
       "      <td>161.30</td>\n",
       "      <td>1583915</td>\n",
       "      <td>2834</td>\n",
       "      <td>N</td>\n",
       "      <td>13788</td>\n",
       "      <td>54327</td>\n",
       "    </tr>\n",
       "    <tr>\n",
       "      <th>29878</th>\n",
       "      <td>2025-03-26</td>\n",
       "      <td>ZTS</td>\n",
       "      <td>ZOETIS INC; COM A; CONS</td>\n",
       "      <td>161.16</td>\n",
       "      <td>163.4700</td>\n",
       "      <td>160.680</td>\n",
       "      <td>162.82</td>\n",
       "      <td>2078366</td>\n",
       "      <td>2834</td>\n",
       "      <td>N</td>\n",
       "      <td>13788</td>\n",
       "      <td>54327</td>\n",
       "    </tr>\n",
       "    <tr>\n",
       "      <th>29879</th>\n",
       "      <td>2025-03-27</td>\n",
       "      <td>ZTS</td>\n",
       "      <td>ZOETIS INC; COM A; CONS</td>\n",
       "      <td>163.25</td>\n",
       "      <td>165.4100</td>\n",
       "      <td>161.660</td>\n",
       "      <td>165.02</td>\n",
       "      <td>1590504</td>\n",
       "      <td>2834</td>\n",
       "      <td>N</td>\n",
       "      <td>13788</td>\n",
       "      <td>54327</td>\n",
       "    </tr>\n",
       "    <tr>\n",
       "      <th>29880</th>\n",
       "      <td>2025-03-28</td>\n",
       "      <td>ZTS</td>\n",
       "      <td>ZOETIS INC; COM A; CONS</td>\n",
       "      <td>164.00</td>\n",
       "      <td>165.3994</td>\n",
       "      <td>162.820</td>\n",
       "      <td>163.11</td>\n",
       "      <td>1550288</td>\n",
       "      <td>2834</td>\n",
       "      <td>N</td>\n",
       "      <td>13788</td>\n",
       "      <td>54327</td>\n",
       "    </tr>\n",
       "    <tr>\n",
       "      <th>29881</th>\n",
       "      <td>2025-03-31</td>\n",
       "      <td>ZTS</td>\n",
       "      <td>ZOETIS INC; COM A; CONS</td>\n",
       "      <td>163.12</td>\n",
       "      <td>164.9000</td>\n",
       "      <td>161.580</td>\n",
       "      <td>164.65</td>\n",
       "      <td>3136961</td>\n",
       "      <td>2834</td>\n",
       "      <td>N</td>\n",
       "      <td>13788</td>\n",
       "      <td>54327</td>\n",
       "    </tr>\n",
       "  </tbody>\n",
       "</table>\n",
       "<p>29882 rows × 12 columns</p>\n",
       "</div>"
      ],
      "text/plain": [
       "        DlyCalDt Ticker                                SecurityNm  DlyOpen  \\\n",
       "0     2025-01-02      A  AGILENT TECHNOLOGIES INC; COM NONE; CONS   135.21   \n",
       "1     2025-01-03      A  AGILENT TECHNOLOGIES INC; COM NONE; CONS   133.45   \n",
       "2     2025-01-06      A  AGILENT TECHNOLOGIES INC; COM NONE; CONS   135.60   \n",
       "3     2025-01-07      A  AGILENT TECHNOLOGIES INC; COM NONE; CONS   136.83   \n",
       "4     2025-01-08      A  AGILENT TECHNOLOGIES INC; COM NONE; CONS   137.68   \n",
       "...          ...    ...                                       ...      ...   \n",
       "29877 2025-03-25    ZTS                   ZOETIS INC; COM A; CONS   163.31   \n",
       "29878 2025-03-26    ZTS                   ZOETIS INC; COM A; CONS   161.16   \n",
       "29879 2025-03-27    ZTS                   ZOETIS INC; COM A; CONS   163.25   \n",
       "29880 2025-03-28    ZTS                   ZOETIS INC; COM A; CONS   164.00   \n",
       "29881 2025-03-31    ZTS                   ZOETIS INC; COM A; CONS   163.12   \n",
       "\n",
       "        DlyHigh   DlyLow  DlyClose   DlyVol  SICCD PrimaryExch  PERMNO  PERMCO  \n",
       "0      135.7300  132.870    133.43   953587   3826           N   87432   36364  \n",
       "1      136.0500  132.755    135.69  1246919   3826           N   87432   36364  \n",
       "2      138.3400  135.340    136.43  1047034   3826           N   87432   36364  \n",
       "3      140.2800  135.980    137.41  1056693   3826           N   87432   36364  \n",
       "4      137.6800  135.630    137.00  1684573   3826           N   87432   36364  \n",
       "...         ...      ...       ...      ...    ...         ...     ...     ...  \n",
       "29877  164.3499  160.251    161.30  1583915   2834           N   13788   54327  \n",
       "29878  163.4700  160.680    162.82  2078366   2834           N   13788   54327  \n",
       "29879  165.4100  161.660    165.02  1590504   2834           N   13788   54327  \n",
       "29880  165.3994  162.820    163.11  1550288   2834           N   13788   54327  \n",
       "29881  164.9000  161.580    164.65  3136961   2834           N   13788   54327  \n",
       "\n",
       "[29882 rows x 12 columns]"
      ]
     },
     "execution_count": 2,
     "metadata": {},
     "output_type": "execute_result"
    }
   ],
   "source": [
    "import pandas as pd\n",
    "\n",
    "# Load the data\n",
    "df = pd.read_csv(\"../data/sp500_q1_2025.csv\")\n",
    "\n",
    "# Look at dates - back in the ISO format!\n",
    "print(\"Look at our dates:\\n\", df.DlyCalDt.head())\n",
    "\n",
    "# Convert the 'datadate' column to a datetime object\n",
    "df.DlyCalDt = pd.to_datetime(df.DlyCalDt)\n",
    "\n",
    "df"
   ]
  },
  {
   "attachments": {},
   "cell_type": "markdown",
   "metadata": {},
   "source": [
    "We'll stop short of setting the index as our datetime value though. This is because an index must have unique values, and because this panel data contains lots of different company stocks for just one quarter of a year, we'll see the same date lots of times."
   ]
  },
  {
   "cell_type": "code",
   "execution_count": null,
   "metadata": {},
   "outputs": [],
   "source": [
    "# How many unique dates exist in the data frame\n",
    "print(\"Number of unique dates\", df.DlyCalDt.nunique())\n",
    "\n",
    "# Last date in the dataset\n",
    "print(\"Last date\", df.DlyCalDt.max())\n",
    "\n",
    "# First date in the dataset\n",
    "print(\"First date\", df.DlyCalDt.min())"
   ]
  },
  {
   "cell_type": "markdown",
   "metadata": {},
   "source": [
    "## Cleaning\n",
    "\n",
    "Let's not forget data cleaning! Do we have missing data? Where?"
   ]
  },
  {
   "cell_type": "code",
   "execution_count": null,
   "metadata": {},
   "outputs": [],
   "source": [
    "# Check for missing values\n",
    "print(\"Missing data\", df.isnull().sum().sum())\n",
    "\n",
    "# Find missing data\n",
    "df[df.isnull().any(axis=1)]\n",
    "\n",
    "# Given the amount of missing data, it may be best to drop these rows\n",
    "df.dropna(inplace=True)\n",
    "\n",
    "print(\"Missing data after cleaning\", df.isnull().sum().sum())"
   ]
  },
  {
   "attachments": {},
   "cell_type": "markdown",
   "metadata": {},
   "source": [
    "## Exploring\n",
    "\n",
    "Let's explore this panel data a bit more, to answer some questions:\n",
    "\n",
    "- How many tickers are considered\n",
    "- How many securities are considered\n",
    "- How many companies are considered\n",
    "- Which exchanges are considered\n",
    "- Which exchanges appear most\n"
   ]
  },
  {
   "cell_type": "code",
   "execution_count": null,
   "metadata": {},
   "outputs": [],
   "source": [
    "print(\"Unique tickers:\", df.Ticker.nunique())\n",
    "print(\"Unique companies\", df.PERMCO.nunique())\n",
    "print(\"Unique securities\", df.PERMNO.nunique())\n",
    "# Notice the discrepancy between these values - we'll look more at why this is when we learn to group\n",
    "\n",
    "# If we use unique() instead of nunique() we'll get the actual values\n",
    "print(\"Unique exhanges:\", df.PrimaryExch.unique())\n",
    "print(\"Exchanges by appearance:\", df.PrimaryExch.value_counts())"
   ]
  },
  {
   "attachments": {},
   "cell_type": "markdown",
   "metadata": {},
   "source": [
    "## Grouping\n",
    "\n",
    "What if we wanted to calculate daily returns in this data set. Is it as simple as using `pct_change()`? Let's try."
   ]
  },
  {
   "cell_type": "code",
   "execution_count": null,
   "metadata": {},
   "outputs": [],
   "source": [
    "df[\"Returns\"] = df.DlyClose.pct_change()\n",
    "df # switch to 25 per page and go to page 3 (row index 60) to see the problem!"
   ]
  },
  {
   "attachments": {},
   "cell_type": "markdown",
   "metadata": {},
   "source": [
    "Can you see what's gone wrong here? Our first calculated daily return for American Airlines is using Agilent's last closing price. This hopefully gets across the importance of *grouping*, particularly useful with this kind of panel data.\n"
   ]
  },
  {
   "attachments": {},
   "cell_type": "markdown",
   "metadata": {},
   "source": [
    "We can solve this with the `groupby()` method of data frames."
   ]
  },
  {
   "cell_type": "code",
   "execution_count": null,
   "metadata": {},
   "outputs": [],
   "source": [
    "df[\"Returns\"] = df.groupby(\"PERMNO\").DlyClose.pct_change()\n",
    "df.head(65) # just navigate to the last page of the dataframe view for row index 60"
   ]
  },
  {
   "attachments": {},
   "cell_type": "markdown",
   "metadata": {},
   "source": [
    "Perfect! Grouping is a very powerful way to manipulate panel data. Once you've grouped, you can call functions and they will be applied groupwise as we saw above. Here are some other common functions with groups:"
   ]
  },
  {
   "cell_type": "code",
   "execution_count": null,
   "metadata": {},
   "outputs": [],
   "source": [
    "# Identify the number of rows in each group\n",
    "print(\"Number of rows per group\", df.groupby(\"Ticker\").size())\n",
    "\n",
    "# Subset a specific group\n",
    "apple = df.groupby(\"Ticker\").get_group(\"AAPL\")\n",
    "apple\n"
   ]
  },
  {
   "cell_type": "markdown",
   "metadata": {},
   "source": [
    "Let's see what else we can do with grouping. Recall that we had more tickers than companies. Let's see why that is by looking at how many unique tickers belong to each company (using `Ticker` and `PERMCO`). Then let's list those companies."
   ]
  },
  {
   "cell_type": "code",
   "execution_count": null,
   "metadata": {},
   "outputs": [],
   "source": [
    "# First we create a series with the number of unique stocks for each company\n",
    "ticker_counts = df.groupby(\"PERMCO\").Ticker.nunique()\n",
    "multi_permco = ticker_counts[ticker_counts > 1].index\n",
    "\n",
    "# Then we index that series with a boolean expression\n",
    "df[df.PERMCO.isin(multi_permco)]"
   ]
  },
  {
   "attachments": {},
   "cell_type": "markdown",
   "metadata": {},
   "source": [
    "### Exercise: Tick Tick\n",
    "\n",
    "**Part 1** Identify the number of unique tickers traded on each exchange."
   ]
  },
  {
   "cell_type": "code",
   "execution_count": null,
   "metadata": {},
   "outputs": [],
   "source": [
    "## YOUR CODE GOES HERE"
   ]
  },
  {
   "cell_type": "markdown",
   "metadata": {},
   "source": [
    "**Part 2** Then identify any securities that share a ticker."
   ]
  },
  {
   "cell_type": "code",
   "execution_count": null,
   "metadata": {},
   "outputs": [],
   "source": [
    "## YOUR CODE GOES HERE"
   ]
  },
  {
   "attachments": {},
   "cell_type": "markdown",
   "metadata": {},
   "source": [
    "## Aggregation\n",
    "\n",
    "Aggregation functions like `mean()`, `median()`, `sum()`, `min()`, `max()`, `first()`, `last()` and `std()` can be applied to grouped data to give insights across panel data. Say we wanted the average daily return of each traded security, or the max volume traded on any given day for each security?\n",
    "\n",
    "The exercises above helped us identify that the `PERMNO` column corresponds to unique securities, so let's use that for grouping from now on. "
   ]
  },
  {
   "cell_type": "code",
   "execution_count": null,
   "metadata": {},
   "outputs": [],
   "source": [
    "df.groupby(\"PERMNO\").Returns.mean()"
   ]
  },
  {
   "cell_type": "markdown",
   "metadata": {},
   "source": [
    "Useful, but only to a point. The `PERMNO` value is just a number to most of us. What if we want a ticker or name for the security? Let's look at grouping by multiple columns to help!"
   ]
  },
  {
   "cell_type": "code",
   "execution_count": null,
   "metadata": {},
   "outputs": [],
   "source": [
    "df.groupby([\"PERMNO\", \"Ticker\"], as_index=False).DlyClose.min() # as_index is optional. It keeps our columns as columns, allowing pretty display of a dataframe\n",
    "\n",
    "df.groupby([\"PERMNO\", \"SecurityNm\"], as_index=False).DlyClose.first() # notice this is different to min(), and the first price of the period\n",
    "\n",
    "df.groupby([\"PERMNO\", \"Ticker\"], as_index=False).SecurityNm.first() # first() is commonly used for aggregating like, non-numeric data\n"
   ]
  },
  {
   "attachments": {},
   "cell_type": "markdown",
   "metadata": {},
   "source": [
    "Once we've done these sorts of aggregation, we're often curious to see who sits at the top or the bottom of the distribution. We can use `nlargest()` and its antonym here. Note that `as_index=False` doesn't work here easily, since these functions refer to the index!"
   ]
  },
  {
   "cell_type": "code",
   "execution_count": null,
   "metadata": {},
   "outputs": [],
   "source": [
    "df.groupby(\"SecurityNm\").Returns.mean().nsmallest()\n",
    "\n",
    "df.groupby(\"SecurityNm\").DlyVol.max().nlargest()\n"
   ]
  },
  {
   "attachments": {},
   "cell_type": "markdown",
   "metadata": {},
   "source": [
    "We can also group by multiple columns! This can be helpful when doing aggregation, for example, to find high performers in each month. Because our date is just a regular column, we need to specify `.dt` to use any datetime functions."
   ]
  },
  {
   "cell_type": "code",
   "execution_count": null,
   "metadata": {},
   "outputs": [],
   "source": [
    "# First create a column to specify the month\n",
    "df[\"Month\"] = df.DlyCalDt.dt.month_name()\n",
    "\n",
    "# Then use it to group and aggregate for max closing price each month\n",
    "df.groupby([\"Ticker\", \"Month\"], as_index=False).DlyClose.max()"
   ]
  },
  {
   "attachments": {},
   "cell_type": "markdown",
   "metadata": {},
   "source": [
    "### Exercise: Good Days\n",
    "\n",
    "Which two days of the week see the highest average close in this data set, and what is the average close for those days?  "
   ]
  },
  {
   "cell_type": "code",
   "execution_count": null,
   "metadata": {},
   "outputs": [],
   "source": [
    "## YOUR CODE GOES HERE"
   ]
  },
  {
   "attachments": {},
   "cell_type": "markdown",
   "metadata": {},
   "source": [
    "### Exercise: Trading Exchanges\n",
    "\n",
    "Next identify the total trading volume of each exchange."
   ]
  },
  {
   "cell_type": "code",
   "execution_count": null,
   "metadata": {},
   "outputs": [],
   "source": [
    "## YOUR CODE GOES HERE"
   ]
  },
  {
   "cell_type": "markdown",
   "metadata": {},
   "source": [
    "### Exercise: The 1000 Club\n",
    "\n",
    "For securities that reached a closing price above 1000, how many times in each month, did they acheive this?"
   ]
  },
  {
   "cell_type": "code",
   "execution_count": null,
   "metadata": {},
   "outputs": [],
   "source": [
    "## YOUR CODE GOES HERE"
   ]
  },
  {
   "attachments": {},
   "cell_type": "markdown",
   "metadata": {},
   "source": [
    "## Multiple Aggregation\n",
    "\n",
    "We can use the `agg()` method, and pass it a dictionary to do multiple aggregations at once on grouped data. This can be helpful for further analyses, or for producing a more descriptive aggregated data frame."
   ]
  },
  {
   "cell_type": "code",
   "execution_count": null,
   "metadata": {},
   "outputs": [],
   "source": [
    "df.groupby(\"PERMNO\").agg({\"SecurityNm\": \"first\", \"DlyClose\": \"mean\"})\n",
    "\n",
    "df.groupby(\"PERMNO\").agg({\"SecurityNm\": \"first\", \"DlyClose\": [\"first\", \"last\"], \"DlyVol\": \"sum\"}).nlargest(5, columns=(\"DlyVol\", \"sum\"))"
   ]
  },
  {
   "attachments": {},
   "cell_type": "markdown",
   "metadata": {},
   "source": [
    "### Quick Quarter Query\n",
    "\n",
    "Using multiple aggregation, create an aggregated data frame with ticker and security name, the first open price in the period for each security and the last close price in the period for each security. Create a new column in this aggregated data frame that shows the price difference between final close and initial open for each security."
   ]
  },
  {
   "cell_type": "code",
   "execution_count": null,
   "metadata": {},
   "outputs": [],
   "source": [
    "## YOUR CODE GOES HERE"
   ]
  }
 ],
 "metadata": {
  "kernelspec": {
   "display_name": "Python 3",
   "language": "python",
   "name": "python3"
  },
  "language_info": {
   "codemirror_mode": {
    "name": "ipython",
    "version": 3
   },
   "file_extension": ".py",
   "mimetype": "text/x-python",
   "name": "python",
   "nbconvert_exporter": "python",
   "pygments_lexer": "ipython3",
   "version": "3.12.1"
  }
 },
 "nbformat": 4,
 "nbformat_minor": 2
}
